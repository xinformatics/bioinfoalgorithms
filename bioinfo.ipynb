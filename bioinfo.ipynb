{
 "cells": [
  {
   "cell_type": "code",
   "execution_count": 13,
   "metadata": {},
   "outputs": [],
   "source": [
    "#text = \"CCGGATCGCCCTAGAGATCGCCTTCTGGCCGATCGCCGATCGCCAAAGATCGCCTGGGAAGATCGCCAAGTGATCGCCGATCGCCGTCCCGATCGCCTAGATCGCCACGAAGATCGCCGATCGCCCTGATCGCCTCCAAGCTGCGGTTGCGGGGATCGCCGATCGCCGATCGCCGTAAGTGATCGCCCCGATCGCCCGATCGCCGGTAGGATGATCGCCTGATCGCCTGATCGCCGATCGCCCCGATCGCCGGGGATCGCCTAGATCGCCTTGATCGCCGATCGCCGATCGCCGGCGATCGCCAATGAGATCGCCGGGGGATCGCCTTATGATCGCCGATCGCCGTGATCGCCGATCGCCACGATCGCCAGTGGATCGCCTGATCGCCGAGGGTGGGGATCGCCGATCGCCGATCGCCAGAGATCGCCGATCGCCCCAGATCGCCCCTACTGATCGCCGCGATCGCCGAGATCGCCAGTCAGCTGATCGCCCAGATCGCCGGGATCGCCACAGATCGCCAGGATCGCCTTGATCGCCAAGTCAGATCGCCGGGATCGCCCGATCGCCATAAACGTCATTTGTGGTATGATCGCCGATCGCCAATAGATCGCCCAACAGGCATCAATGTGATCGCCGATCGCCGATCGCCGGATCGCCACTATGTGATCGCCCAGAGATCGCCGGATCGCCTTAAGATCGCCGAATACCCGATCGCCGATCGCCTGGGATCGCCAGTTAGATCGCCGGTGATCGCCTGATCGCCGGATCGCCTATGGATCGCCCGATCGCCGATCGCCGGATCGCCTGGATCGCCTCCGCGATCGCCGGGATCGCCTGATCGCCTTAAACTCATCGGATCGCCCAACCCCAGATCGCCGATCGCCGATCGCCTGATCGCCAAAGTTCGATCGCCAGATCGCCGATCGCCTTCTGATCGCCGATCGCCTTGATCGCCAGATCGCCAGCGTGATCGCCGGGGGATGGATCGCCCGATCGCCGATCGCCCGATCGCCGATCGCCCGATCGCCGATCGCCCGATCGCCGATTAGGAGATCGCCGATCGCC\"\n",
    "#pattern = \"GATCGCCGA\"\n",
    "#print(text[3:5])\n",
    "#print (len(text) - len(pattern))\n",
    "def patterncount(text,pattern):\n",
    "    count = 0\n",
    "    for i in range(0,len(text) - len(pattern)+1):\n",
    "        if text[i:i + len(pattern)] == pattern:\n",
    "            count = count + 1\n",
    "    return count\n",
    "#patterncount(text,pattern)"
   ]
  },
  {
   "cell_type": "code",
   "execution_count": null,
   "metadata": {},
   "outputs": [],
   "source": [
    "\"\"\"\n",
    "    FrequentWords(Text, k)\n",
    "        FrequentPatterns ← an empty set\n",
    "        for i ← 0 to |Text| − k\n",
    "            Pattern ← the k-mer Text(i, k)\n",
    "            Count(i) ← PatternCount(Text, Pattern)\n",
    "        maxCount ← maximum value in array Count\n",
    "        for i ← 0 to |Text| − k\n",
    "            if Count(i) = maxCount\n",
    "                add Text(i, k) to FrequentPatterns\n",
    "        remove duplicates from FrequentPatterns\n",
    "        return FrequentPatterns\n",
    "\"\"\""
   ]
  },
  {
   "cell_type": "code",
   "execution_count": 40,
   "metadata": {},
   "outputs": [],
   "source": [
    "def frequentwords(text,k):\n",
    "    freq_pat = []\n",
    "    count = []\n",
    "    for i in range(0,len(text) - k):\n",
    "        pattern = text[i:i+k]\n",
    "        #print (pattern)\n",
    "        #print (patterncount(text,pattern))\n",
    "        count.insert(i,patterncount(text,pattern))\n",
    "    maxCount = max(count)\n",
    "    for j in range(0, len(text) - k):\n",
    "        if count[j] == maxCount:\n",
    "            freq_pat.append(text[j:j+k])\n",
    "    print (freq_pat)\n",
    "    unique = set(freq_pat)\n",
    "    return(unique)\n",
    "        \n",
    "    \n",
    "        "
   ]
  },
  {
   "cell_type": "code",
   "execution_count": 57,
   "metadata": {},
   "outputs": [],
   "source": [
    "code = str.maketrans(\"ATGC\", \"TACG\")\n",
    "def rev_comp(text):\n",
    "    return text.translate(code)[::-1]"
   ]
  },
  {
   "cell_type": "code",
   "execution_count": 61,
   "metadata": {},
   "outputs": [],
   "source": [
    "def pattern_match(pat,gen):\n",
    "    loc = []\n",
    "    k,l = len(pat),len(gen)\n",
    "    for i in range(0,l - k):\n",
    "        if (pat == gen[i:i+k]):\n",
    "            loc.append(i)\n",
    "    print(*loc, sep=\" \")\n",
    "    #return (loc)\n",
    "            \n",
    "    "
   ]
  },
  {
   "cell_type": "code",
   "execution_count": 77,
   "metadata": {},
   "outputs": [
    {
     "name": "stdout",
     "output_type": "stream",
     "text": [
      "1108251\n"
     ]
    }
   ],
   "source": [
    "pat = \"CTTGATCAT\"\n",
    "\n",
    "with open(\"vcgenome.txt\", \"r\") as file:\n",
    "    gen = file.read()\n",
    "    print(len(gen))\n",
    "\n",
    "\n"
   ]
  },
  {
   "cell_type": "code",
   "execution_count": 78,
   "metadata": {},
   "outputs": [
    {
     "name": "stdout",
     "output_type": "stream",
     "text": [
      "60039 98409 129189 152283 152354 152411 163207 197028 200160 357976 376771 392723 532935 600085 622755 1065555\n"
     ]
    }
   ],
   "source": [
    "pattern_match(pat,gen)"
   ]
  },
  {
   "cell_type": "code",
   "execution_count": 75,
   "metadata": {},
   "outputs": [
    {
     "data": {
      "text/plain": [
       "<_io.TextIOWrapper name='vcgenome.txt' mode='r' encoding='UTF-8'>"
      ]
     },
     "execution_count": 75,
     "metadata": {},
     "output_type": "execute_result"
    }
   ],
   "source": [
    "gen"
   ]
  },
  {
   "cell_type": "code",
   "execution_count": null,
   "metadata": {},
   "outputs": [],
   "source": []
  }
 ],
 "metadata": {
  "kernelspec": {
   "display_name": "Python 3",
   "language": "python",
   "name": "python3"
  },
  "language_info": {
   "codemirror_mode": {
    "name": "ipython",
    "version": 3
   },
   "file_extension": ".py",
   "mimetype": "text/x-python",
   "name": "python",
   "nbconvert_exporter": "python",
   "pygments_lexer": "ipython3",
   "version": "3.7.3"
  }
 },
 "nbformat": 4,
 "nbformat_minor": 4
}
